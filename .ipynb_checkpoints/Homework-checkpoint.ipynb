{
 "cells": [
  {
   "cell_type": "markdown",
   "metadata": {},
   "source": [
    "# Homework_2\n",
    "\n",
    "#Tabular Data extraction"
   ]
  },
  {
   "cell_type": "code",
   "execution_count": 1,
   "metadata": {},
   "outputs": [
    {
     "name": "stdout",
     "output_type": "stream",
     "text": [
      "['3']\n",
      "['Water', 'xyz', 'file']\n",
      "['O', '0.000000', '-0.007156', '0.965491']\n",
      "['H1', '-0.000000', '0.001486', '-0.003471']\n",
      "['H2', '0.000000', '0.931026', '1.207929']\n"
     ]
    }
   ],
   "source": [
    "#'*.xyz' file format and we need to calculate the distances between the atoms\n",
    "import os\n",
    "filename=os.path.join('data','water.xyz')\n",
    "f=open(filename, 'r')\n",
    "data=f.readlines()\n",
    "f.close()\n",
    "\n",
    "for i in data:\n",
    "    splitline=i.split()\n",
    "    print(splitline) #to know how the splitting is working so that we can proceed with the code\n",
    "    "
   ]
  },
  {
   "cell_type": "code",
   "execution_count": 2,
   "metadata": {},
   "outputs": [
    {
     "name": "stdout",
     "output_type": "stream",
     "text": [
      "[['O' '0.000000' '-0.007156' '0.965491']\n",
      " ['H1' '-0.000000' '0.001486' '-0.003471']\n",
      " ['H2' '0.000000' '0.931026' '1.207929']]\n",
      "Length of the outside array: 3\n",
      "Length of the insider array: 4\n"
     ]
    }
   ],
   "source": [
    "#'*.xyz' file format and we need to calculate the distances between the atoms\n",
    "\n",
    "import os\n",
    "import numpy as np\n",
    "\n",
    "#opening, reading and the storing in a variable \n",
    "filename=os.path.join('data','water.xyz')\n",
    "distances= np.genfromtxt(fname=filename, delimiter='',dtype='unicode',skip_header=2)\n",
    "#skipheader helps you to skip the no. lines from the top \n",
    "print(distances)\n",
    "print('Length of the outside array:',len(distances))\n",
    "print('Length of the insider array:',len(distances[0]))\n"
   ]
  },
  {
   "cell_type": "code",
   "execution_count": 5,
   "metadata": {},
   "outputs": [
    {
     "name": "stdout",
     "output_type": "stream",
     "text": [
      "O  to O  : 0.000\n",
      "O  to H1 : 0.969\n",
      "O  to H2 : 0.969\n",
      "H1 to O  : 0.969\n",
      "H1 to H1 : 0.000\n",
      "H1 to H2 : 1.527\n",
      "H2 to O  : 0.969\n",
      "H2 to H1 : 1.527\n",
      "H2 to H2 : 0.000\n",
      "\n",
      "Without redundancy:\n",
      "O  to H1 : 0.969\n",
      "O  to H2 : 0.969\n",
      "H1 to O  : 0.969\n",
      "H1 to H2 : 1.527\n",
      "H2 to O  : 0.969\n",
      "H2 to H1 : 1.527\n"
     ]
    }
   ],
   "source": [
    "#'*.xyz' file format and we need to calculate the distances between the atoms\n",
    "\n",
    "import os\n",
    "import numpy as np\n",
    "\n",
    "#opening, reading and the storing in a variable \n",
    "filename=os.path.join('data','water.xyz')\n",
    "table= np.genfromtxt(fname=filename, delimiter='',dtype='unicode',skip_header=2)\n",
    "#skipheader you to skip the no. lines from the top, here it's 2 \n",
    "\n",
    "atom=table[:,0] #names of the atoms\n",
    "dist=table[:,1:].astype(np.float) #only the coordinates and changing them to float\n",
    "#print(atom,dist)\n",
    "\n",
    "#Loop with redundancy\n",
    "for i in range(len(dist)): #for first set of atoms\n",
    "      for j in range(len(dist)): #for sencond set of atoms to permute with the first set\n",
    "            print(F'{atom[i]:2} to {atom[j]:2} : {np.sqrt(np.sum(np.square(dist[i]-dist[j]))):.3f}')\n",
    "#{var:2}sets a defined length to display(2) so even if 'O' is 1 character it prints an extra space so alignment is maintained\n",
    "            \n",
    "#Loop without any redundancy\n",
    "print('\\nWithout redundancy:')\n",
    "for i in range(len(dist)): #for first set of atoms\n",
    "      for j in range(len(dist)): #for sencond set of atoms to permute with the first set\n",
    "            if i!=j:\n",
    "                print(F'{atom[i]:2} to {atom[j]:2} : {np.sqrt(np.sum(np.square(dist[i]-dist[j]))):.3f}')       "
   ]
  },
  {
   "cell_type": "code",
   "execution_count": 4,
   "metadata": {},
   "outputs": [
    {
     "name": "stdout",
     "output_type": "stream",
     "text": [
      "[ -8 -10 -10 -10] [ 20  56  96 144] [ 64 100 100 100]\n",
      ": [ 64 100 100 100]\n"
     ]
    },
    {
     "data": {
      "text/plain": [
       "array([ True,  True,  True,  True])"
      ]
     },
     "execution_count": 4,
     "metadata": {},
     "output_type": "execute_result"
    }
   ],
   "source": [
    "a=np.array([2,4,6,8])\n",
    "b=np.array([10,14,16,18])\n",
    "print(a-b, a*b, (a-b)**2)\n",
    "print(':',np.square(a-b))\n",
    "a!=b"
   ]
  },
  {
   "cell_type": "markdown",
   "metadata": {},
   "source": [
    "# Homework_1\n",
    "\n",
    "#File Parsing"
   ]
  },
  {
   "cell_type": "code",
   "execution_count": 10,
   "metadata": {},
   "outputs": [],
   "source": [
    "import os\n",
    "\n",
    "filename=os.path.join('data', '03_Prod.mdout')\n",
    "f=open(filename, 'r')\n",
    "data=f.readlines()\n",
    "f.close()\n",
    "\n",
    "f_write=open('Etot.txt','w+')\n",
    "f_write.write('Total Energy:\\n')\n",
    "\n",
    "for i in data:\n",
    "    splitline=i.split()\n",
    "    if 'Etot' in i:\n",
    "        f_write.write(f'{splitline[2]}\\n')\n",
    "\n",
    "f_write.close()"
   ]
  },
  {
   "cell_type": "code",
   "execution_count": null,
   "metadata": {},
   "outputs": [],
   "source": []
  }
 ],
 "metadata": {
  "kernelspec": {
   "display_name": "Python 3",
   "language": "python",
   "name": "python3"
  },
  "language_info": {
   "codemirror_mode": {
    "name": "ipython",
    "version": 3
   },
   "file_extension": ".py",
   "mimetype": "text/x-python",
   "name": "python",
   "nbconvert_exporter": "python",
   "pygments_lexer": "ipython3",
   "version": "3.7.6"
  }
 },
 "nbformat": 4,
 "nbformat_minor": 4
}
