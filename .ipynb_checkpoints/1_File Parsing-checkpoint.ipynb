{
 "cells": [
  {
   "cell_type": "code",
   "execution_count": 1,
   "metadata": {},
   "outputs": [
    {
     "name": "stdout",
     "output_type": "stream",
     "text": [
      " Volume in drive C is Acer\n",
      " Volume Serial Number is 4C5D-D69A\n",
      "\n",
      " Directory of C:\\Users\\Acer\\Desktop\\cms-workshop\\data\n",
      "\n",
      "02-06-2020  21:43    <DIR>          .\n",
      "02-06-2020  21:43    <DIR>          ..\n",
      "27-03-2020  09:59           212,934 03_Prod.mdout\n",
      "08-05-2019  12:20               619 benzene.xyz\n",
      "08-05-2019  12:18             2,471 buckminsterfullerene.xyz\n",
      "19-02-2019  09:37           355,359 distance_data_headers.csv\n",
      "02-06-2020  21:43    <DIR>          outfiles\n",
      "19-02-2019  09:29            61,568 sapt.out\n",
      "29-01-2019  15:02               155 water.xyz\n",
      "               6 File(s)        633,106 bytes\n",
      "               3 Dir(s)  439,719,145,472 bytes free\n"
     ]
    }
   ],
   "source": [
    "ls data\n"
   ]
  },
  {
   "cell_type": "code",
   "execution_count": 2,
   "metadata": {},
   "outputs": [
    {
     "data": {
      "text/plain": [
       "'C:\\\\Users\\\\Acer\\\\Desktop\\\\cms-workshop'"
      ]
     },
     "execution_count": 2,
     "metadata": {},
     "output_type": "execute_result"
    }
   ],
   "source": [
    "pwd\n"
   ]
  },
  {
   "cell_type": "code",
   "execution_count": 4,
   "metadata": {},
   "outputs": [],
   "source": [
    "import os"
   ]
  },
  {
   "cell_type": "code",
   "execution_count": 5,
   "metadata": {},
   "outputs": [
    {
     "name": "stdout",
     "output_type": "stream",
     "text": [
      "data\\outfiles\\ethanol.out\n"
     ]
    }
   ],
   "source": [
    "#don't type the path as it will not work for other OS such as MacOS as the slashes are inverted over there so use the 'os library'\n",
    "ethanol_file=os.path.join('data','outfiles','ethanol.out')\n",
    "print(ethanol_file)"
   ]
  },
  {
   "cell_type": "code",
   "execution_count": 6,
   "metadata": {},
   "outputs": [],
   "source": [
    "outfile=open(ethanol_file,'r')\n",
    "data=outfile.readlines()\n",
    "outfile.close()"
   ]
  },
  {
   "cell_type": "code",
   "execution_count": 8,
   "metadata": {},
   "outputs": [
    {
     "name": "stdout",
     "output_type": "stream",
     "text": [
      "270\n"
     ]
    }
   ],
   "source": [
    "print(len(data))"
   ]
  },
  {
   "cell_type": "code",
   "execution_count": 9,
   "metadata": {},
   "outputs": [
    {
     "name": "stdout",
     "output_type": "stream",
     "text": [
      "  @DF-RHF Final Energy:  -154.09130176573018\n",
      "\n"
     ]
    }
   ],
   "source": [
    "for line in data:\n",
    "    if 'Final Energy' in line:\n",
    "        energy_line=line\n",
    "        print(energy_line)"
   ]
  },
  {
   "cell_type": "code",
   "execution_count": 10,
   "metadata": {},
   "outputs": [
    {
     "name": "stdout",
     "output_type": "stream",
     "text": [
      "['@DF-RHF', 'Final', 'Energy:', '-154.09130176573018']\n"
     ]
    }
   ],
   "source": [
    "words = energy_line.split()\n",
    "print(words)"
   ]
  },
  {
   "cell_type": "code",
   "execution_count": 12,
   "metadata": {},
   "outputs": [
    {
     "name": "stdout",
     "output_type": "stream",
     "text": [
      "-154.09130176573018\n"
     ]
    }
   ],
   "source": [
    "energy=words[3]\n",
    "print(energy\n",
    "    )"
   ]
  },
  {
   "cell_type": "code",
   "execution_count": 13,
   "metadata": {},
   "outputs": [
    {
     "data": {
      "text/plain": [
       "str"
      ]
     },
     "execution_count": 13,
     "metadata": {},
     "output_type": "execute_result"
    }
   ],
   "source": [
    "type(line)"
   ]
  },
  {
   "cell_type": "code",
   "execution_count": 15,
   "metadata": {},
   "outputs": [
    {
     "data": {
      "text/plain": [
       "-104.09130176573018"
      ]
     },
     "execution_count": 15,
     "metadata": {},
     "output_type": "execute_result"
    }
   ],
   "source": [
    "energy=float(energy)\n",
    "energy+50"
   ]
  },
  {
   "cell_type": "code",
   "execution_count": 16,
   "metadata": {},
   "outputs": [],
   "source": [
    "import glob"
   ]
  },
  {
   "cell_type": "code",
   "execution_count": 17,
   "metadata": {},
   "outputs": [
    {
     "name": "stdout",
     "output_type": "stream",
     "text": [
      "data\\outfiles\\*.out\n"
     ]
    }
   ],
   "source": [
    "#glob is a library for managing multiple files\n",
    "file_location=os.path.join('data','outfiles','*.out')#*.out  is for every file with .out extension\n",
    "print(file_location)\n"
   ]
  },
  {
   "cell_type": "code",
   "execution_count": 18,
   "metadata": {},
   "outputs": [
    {
     "name": "stdout",
     "output_type": "stream",
     "text": [
      "['data\\\\outfiles\\\\butanol.out', 'data\\\\outfiles\\\\decanol.out', 'data\\\\outfiles\\\\ethanol.out', 'data\\\\outfiles\\\\heptanol.out', 'data\\\\outfiles\\\\hexanol.out', 'data\\\\outfiles\\\\methanol.out', 'data\\\\outfiles\\\\nonanol.out', 'data\\\\outfiles\\\\octanol.out', 'data\\\\outfiles\\\\pentanol.out', 'data\\\\outfiles\\\\propanol.out']\n"
     ]
    }
   ],
   "source": [
    "filenames=glob.glob(file_location)\n",
    "print(filenames)"
   ]
  },
  {
   "cell_type": "code",
   "execution_count": 19,
   "metadata": {},
   "outputs": [
    {
     "data": {
      "text/plain": [
       "list"
      ]
     },
     "execution_count": 19,
     "metadata": {},
     "output_type": "execute_result"
    }
   ],
   "source": [
    "type(filenames)"
   ]
  },
  {
   "cell_type": "code",
   "execution_count": 24,
   "metadata": {},
   "outputs": [],
   "source": [
    "#glob function here gives us the the list containing the paths and the file name from the variable which is storing the paths of file of desired extensions "
   ]
  },
  {
   "cell_type": "code",
   "execution_count": 20,
   "metadata": {},
   "outputs": [
    {
     "name": "stdout",
     "output_type": "stream",
     "text": [
      "-232.1655798347283\n",
      "-466.3836241400086\n",
      "-154.09130176573018\n",
      "-349.27397687072676\n",
      "-310.2385332251633\n",
      "-115.04800861868374\n",
      "-427.3465180082815\n",
      "-388.3110864554743\n",
      "-271.20138119895074\n",
      "-193.12836249728798\n"
     ]
    }
   ],
   "source": [
    "for file in filenames:\n",
    "    outfile=open(file,'r')\n",
    "    data=outfile.readlines()\n",
    "    outfile.close()\n",
    "    for line in data:\n",
    "        if 'Final Energy' in line:\n",
    "            energy_line=line\n",
    "            words=energy_line.split()\n",
    "            energy=float(words[3])\n",
    "            print(energy)"
   ]
  },
  {
   "cell_type": "code",
   "execution_count": 21,
   "metadata": {},
   "outputs": [
    {
     "name": "stdout",
     "output_type": "stream",
     "text": [
      "data\\outfiles\\*.out\n"
     ]
    }
   ],
   "source": [
    "print(file_location)"
   ]
  },
  {
   "cell_type": "code",
   "execution_count": 22,
   "metadata": {},
   "outputs": [
    {
     "name": "stdout",
     "output_type": "stream",
     "text": [
      "data\\outfiles\\butanol.out\n"
     ]
    }
   ],
   "source": [
    "first_file=filenames[0]\n",
    "print(first_file)"
   ]
  },
  {
   "cell_type": "code",
   "execution_count": 23,
   "metadata": {},
   "outputs": [
    {
     "name": "stdout",
     "output_type": "stream",
     "text": [
      "butanol.out\n"
     ]
    }
   ],
   "source": [
    "file_name=os.path.basename(first_file)\n",
    "print(file_name)"
   ]
  },
  {
   "cell_type": "code",
   "execution_count": 25,
   "metadata": {},
   "outputs": [
    {
     "name": "stdout",
     "output_type": "stream",
     "text": [
      "butanol -232.1655798347283\n",
      "decanol -466.3836241400086\n",
      "ethanol -154.09130176573018\n",
      "heptanol -349.27397687072676\n",
      "hexanol -310.2385332251633\n",
      "methanol -115.04800861868374\n",
      "nonanol -427.3465180082815\n",
      "octanol -388.3110864554743\n",
      "pentanol -271.20138119895074\n",
      "propanol -193.12836249728798\n"
     ]
    }
   ],
   "source": [
    "for file in filenames:\n",
    "    file_name=os.path.basename(file)\n",
    "    split_filename=file_name.split('.')\n",
    "    molecule_name=split_filename[0]\n",
    "    \n",
    "    outfile=open(file,'r')\n",
    "    data=outfile.readlines()\n",
    "    outfile.close()\n",
    "    \n",
    "    for line in data:\n",
    "        if 'Final Energy' in line:\n",
    "            energy_line=line\n",
    "            words=energy_line.split()\n",
    "            energy=float(words[3])\n",
    "            print(molecule_name,energy)"
   ]
  },
  {
   "cell_type": "code",
   "execution_count": 26,
   "metadata": {},
   "outputs": [
    {
     "ename": "SyntaxError",
     "evalue": "invalid syntax (<fstring>, line 1)",
     "output_type": "error",
     "traceback": [
      "\u001b[1;36m  File \u001b[1;32m\"<fstring>\"\u001b[1;36m, line \u001b[1;32m1\u001b[0m\n\u001b[1;33m    (energy.4f)\u001b[0m\n\u001b[1;37m            ^\u001b[0m\n\u001b[1;31mSyntaxError\u001b[0m\u001b[1;31m:\u001b[0m invalid syntax\n"
     ]
    }
   ],
   "source": [
    "#if you want to send someone just this data instead of the whole folder\n",
    "filehandle=open('energies.txt','w+')# w is for writing and + is for creating if there no file exists\n",
    "for file in filenames:\n",
    "    file_name=os.path.basename(file)\n",
    "    split_filename=file_name.split('.')\n",
    "    molecule_name=split_filename[0]\n",
    "    \n",
    "    outfile=open(file,'r')\n",
    "    data=outfile.readlines()\n",
    "    outfile.close()\n",
    "    \n",
    "    for line in data:\n",
    "        if 'Final Energy' in line:\n",
    "            energy_line=line\n",
    "            words=energy_line.split()\n",
    "            energy=float(words[3])\n",
    "            filehandle.write(F' For the molecule: {molecule_name} \\t {energy.4f} \\n')#we can only write strings\n",
    "            \n",
    "filehandle.close()\n",
    "#F is for writing a “formatted string” which you can put variables in\n",
    "#If you wanted to create a variable that was a string (without variables) you can do variable_name = ‘my string'\n",
    "#It’s word in quotes. That creates a string\n",
    "#{} is used to make variables record as string if not used it will just insert the variable name instead of the value"
   ]
  },
  {
   "cell_type": "code",
   "execution_count": 27,
   "metadata": {},
   "outputs": [],
   "source": [
    "#if you want to send someone just this data instead of the whole folder\n",
    "filehandle=open('energies.txt','w+')# w is for writing and + is for creating if there no file exists\n",
    "for file in filenames:\n",
    "    file_name=os.path.basename(file)\n",
    "    split_filename=file_name.split('.')\n",
    "    molecule_name=split_filename[0]\n",
    "    \n",
    "    outfile=open(file,'r')\n",
    "    data=outfile.readlines()\n",
    "    outfile.close()\n",
    "    \n",
    "    for line in data:\n",
    "        if 'Final Energy' in line:\n",
    "            energy_line=line\n",
    "            words=energy_line.split()\n",
    "            energy=float(words[3])\n",
    "            filehandle.write(F' For the molecule: {molecule_name} \\t {energy:.4f} \\n')#we can only write strings\n",
    "            \n",
    "filehandle.close()\n",
    "#F is for writing a “formatted string” which you can put variables in\n",
    "#If you wanted to create a variable that was a string (without variables) you can do variable_name = ‘my string'\n",
    "#It’s word in quotes. That creates a string\n",
    "#{} is used to make variables record as string if not used it will just insert the variable name instead of the value"
   ]
  },
  {
   "cell_type": "code",
   "execution_count": null,
   "metadata": {},
   "outputs": [],
   "source": [
    "\n"
   ]
  }
 ],
 "metadata": {
  "kernelspec": {
   "display_name": "Python 3",
   "language": "python",
   "name": "python3"
  },
  "language_info": {
   "codemirror_mode": {
    "name": "ipython",
    "version": 3
   },
   "file_extension": ".py",
   "mimetype": "text/x-python",
   "name": "python",
   "nbconvert_exporter": "python",
   "pygments_lexer": "ipython3",
   "version": "3.7.6"
  }
 },
 "nbformat": 4,
 "nbformat_minor": 4
}
